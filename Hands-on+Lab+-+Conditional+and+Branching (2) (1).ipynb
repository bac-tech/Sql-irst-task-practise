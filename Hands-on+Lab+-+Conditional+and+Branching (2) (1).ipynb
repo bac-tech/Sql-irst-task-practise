{
 "cells": [
  {
   "cell_type": "markdown",
   "id": "6a35fa33-b9c2-49f1-b668-0019998d599d",
   "metadata": {},
   "source": [
    "#### Problem 1: \n",
    "\n",
    "You are working on a wildlife monitoring program that needs to classify animals based on the speed they can run. Create a Python code snippet that determines the category of an animal based on its speed (in kilometers per hour). Use the following classifications:\n",
    "\n",
    "1. If the speed is greater than or equal to 60 km/h, the animal is categorized as a \"Fast Runner.\"\n",
    "2. If the speed is between 30 km/h and 59 km/h (inclusive), the animal is categorized as a \"Moderate Runner.\"\n",
    "3. If the speed is less than 30 km/h, the animal is categorized as a \"Slow Mover.\"\n",
    "\n",
    "\n",
    "Define a variable animal_speed and set it to 45 to test the program."
   ]
  },
  {
   "cell_type": "code",
   "execution_count": 3,
   "id": "1a0867bb-67ca-42c7-8a86-b9dc83df5f51",
   "metadata": {},
   "outputs": [
    {
     "ename": "SyntaxError",
     "evalue": "invalid syntax (Temp/ipykernel_25340/18916810.py, line 6)",
     "output_type": "error",
     "traceback": [
      "\u001b[1;36m  File \u001b[1;32m\"C:\\Users\\CHETNA\\AppData\\Local\\Temp/ipykernel_25340/18916810.py\"\u001b[1;36m, line \u001b[1;32m6\u001b[0m\n\u001b[1;33m    elif(speed<30 km/h ):\u001b[0m\n\u001b[1;37m                  ^\u001b[0m\n\u001b[1;31mSyntaxError\u001b[0m\u001b[1;31m:\u001b[0m invalid syntax\n"
     ]
    }
   ],
   "source": [
    "speed = 45 \n",
    "\n",
    "if speed >= 60:\n",
    "    print(\"Fast Runner\")\n",
    "elif 39 <= speed <= 59:\n",
    "    print(\"Moderate Runner\")\n",
    "elif speed < 30:\n",
    "    print(\"Slow Mover\")\n",
    "else:\n",
    "    print(\"The person is not moving\")\n"
   ]
  },
  {
   "cell_type": "markdown",
   "id": "beb278cf-ebd1-4836-b45f-2e39142ec316",
   "metadata": {},
   "source": [
    "#### Problem 2: \n",
    "\n",
    "You are developing a ticketing system for an amusement park that offers discounted tickets for children. \n",
    "\n",
    "**A child is eligible for a discounted ticket only if their age is between 3 and 12 years inclusive and their height is less than 140 cm.**\n",
    "\n",
    "Write a Python program that checks whether a child qualifies for a discounted ticket. Define two variables: child_age = 10 child_height = 135 to test the program."
   ]
  },
  {
   "cell_type": "code",
   "execution_count": 4,
   "id": "afc11cc7-f367-4ee9-aa16-44919d1209a1",
   "metadata": {},
   "outputs": [
    {
     "name": "stdout",
     "output_type": "stream",
     "text": [
      "The child qualifies for a discounted ticket.\n"
     ]
    }
   ],
   "source": [
    "# Define the child's age and height\n",
    "child_age = 10\n",
    "child_height = 135\n",
    "\n",
    "# Check eligibility for a discounted ticket\n",
    "if 3 <= child_age <= 12 and child_height < 140:\n",
    "    print(\"The child qualifies for a discounted ticket.\")\n",
    "else:\n",
    "    print(\"The child does NOT qualify for a discounted ticket.\")\n"
   ]
  },
  {
   "cell_type": "markdown",
   "id": "18b51ca0-1a5e-414f-865c-61dfd3cc7e00",
   "metadata": {},
   "source": [
    "#### Problem 3:\n",
    "\n",
    "You are designing a system to determine whether a car can participate in an eco-friendly car race. The car must meet the following conditions:\n",
    "\n",
    "1. The car's fuel type must be \"Electric\" or \"Hybrid.\"\n",
    "2. If the car is \"Hybrid,\" its fuel efficiency must be greater than or equal to 25 kilometers per liter (km/l).\n",
    "\n",
    "Write a Python program that determines if the car qualifies for the race. Define two variables: fuel_type = \"Hybrid\" and fuel_efficiency = 28 to test the program."
   ]
  },
  {
   "cell_type": "code",
   "execution_count": 5,
   "id": "1e9ed8bd-2704-4917-a883-6cd5a462aaad",
   "metadata": {},
   "outputs": [
    {
     "name": "stdout",
     "output_type": "stream",
     "text": [
      "Eligible for the eco-friendly car race.\n"
     ]
    }
   ],
   "source": [
    "# Define the car's fuel type and fuel efficiency\n",
    "fuel_type = \"Hybrid\"\n",
    "fuel_efficiency = 28\n",
    "\n",
    "if fuel_type == \"Electric\":\n",
    "    print(\"Eligible for the eco-friendly car race.\")\n",
    "elif fuel_type == \"Hybrid\" and fuel_efficiency >= 25:\n",
    "    print(\"Eligible for the eco-friendly car race.\")\n",
    "else:\n",
    "    print(\"Not eligible for the eco-friendly car race.\")\n"
   ]
  },
  {
   "cell_type": "code",
   "execution_count": null,
   "id": "c6299623",
   "metadata": {},
   "outputs": [],
   "source": []
  }
 ],
 "metadata": {
  "kernelspec": {
   "display_name": "Python 3 (ipykernel)",
   "language": "python",
   "name": "python3"
  },
  "language_info": {
   "codemirror_mode": {
    "name": "ipython",
    "version": 3
   },
   "file_extension": ".py",
   "mimetype": "text/x-python",
   "name": "python",
   "nbconvert_exporter": "python",
   "pygments_lexer": "ipython3",
   "version": "3.9.7"
  }
 },
 "nbformat": 4,
 "nbformat_minor": 5
}
