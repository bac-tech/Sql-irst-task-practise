{
 "cells": [
  {
   "cell_type": "markdown",
   "id": "6a35fa33-b9c2-49f1-b668-0019998d599d",
   "metadata": {},
   "source": [
    "#### Problem 1: \n",
    "**You are given a dictionary representing a student's information. Slice and extract the values for the name and grade keys.**"
   ]
  },
  {
   "cell_type": "code",
   "execution_count": 6,
   "id": "1a0867bb-67ca-42c7-8a86-b9dc83df5f51",
   "metadata": {},
   "outputs": [
    {
     "data": {
      "text/plain": [
       "'Alice'"
      ]
     },
     "execution_count": 6,
     "metadata": {},
     "output_type": "execute_result"
    }
   ],
   "source": [
    "student ={'Name':'Alice','Grade':'A','Age':20 , 'City':'New York'}\n",
    "student['Name']\n",
    "      "
   ]
  },
  {
   "cell_type": "code",
   "execution_count": 7,
   "id": "3ac60743",
   "metadata": {},
   "outputs": [
    {
     "data": {
      "text/plain": [
       "'A'"
      ]
     },
     "execution_count": 7,
     "metadata": {},
     "output_type": "execute_result"
    }
   ],
   "source": [
    "student['Grade']"
   ]
  },
  {
   "cell_type": "markdown",
   "id": "beb278cf-ebd1-4836-b45f-2e39142ec316",
   "metadata": {},
   "source": [
    "#### Problem 2: \n",
    "**Add a new key-value pair to the dictionary representing the student's email address (alice@example.com).**"
   ]
  },
  {
   "cell_type": "code",
   "execution_count": 8,
   "id": "afc11cc7-f367-4ee9-aa16-44919d1209a1",
   "metadata": {},
   "outputs": [
    {
     "name": "stdout",
     "output_type": "stream",
     "text": [
      "{'Name': 'Alice', 'Grade': 'A', 'Age': 20, 'City': 'New York', 'Email': 'alice@example.com'}\n"
     ]
    }
   ],
   "source": [
    "student['Email'] = 'alice@example.com'\n",
    "print(student)"
   ]
  },
  {
   "cell_type": "markdown",
   "id": "75ab11e9-91ad-49b2-aa96-6b3c2414dfe7",
   "metadata": {},
   "source": [
    "#### Problem 3: \n",
    "**Remove the city key-value pair from the dictionary.**"
   ]
  },
  {
   "cell_type": "code",
   "execution_count": 9,
   "id": "842a21fb-b6f4-4084-9471-d39516bd2e7c",
   "metadata": {},
   "outputs": [],
   "source": [
    "del student['Grade']"
   ]
  },
  {
   "cell_type": "code",
   "execution_count": 11,
   "id": "7237d424",
   "metadata": {},
   "outputs": [
    {
     "name": "stdout",
     "output_type": "stream",
     "text": [
      "{'Name': 'Alice', 'Age': 20, 'City': 'New York', 'Email': 'alice@example.com'}\n"
     ]
    }
   ],
   "source": [
    "print(student)"
   ]
  },
  {
   "cell_type": "markdown",
   "id": "0d060ee0-23e6-4b63-8db4-700e15ecca00",
   "metadata": {},
   "source": [
    "#### Problem 4: \n",
    "**Retrieve and display all the keys, all the values, and all the key-value pairs from the dictionary.**"
   ]
  },
  {
   "cell_type": "code",
   "execution_count": 12,
   "id": "3e32ba0c-4592-429d-8f7b-f4a5c7c0d843",
   "metadata": {},
   "outputs": [
    {
     "data": {
      "text/plain": [
       "dict_keys(['Name', 'Age', 'City', 'Email'])"
      ]
     },
     "execution_count": 12,
     "metadata": {},
     "output_type": "execute_result"
    }
   ],
   "source": [
    "student.keys()"
   ]
  },
  {
   "cell_type": "code",
   "execution_count": 13,
   "id": "f5e336e6-4699-48c4-9d11-056215b06ce0",
   "metadata": {},
   "outputs": [
    {
     "data": {
      "text/plain": [
       "dict_values(['Alice', 20, 'New York', 'alice@example.com'])"
      ]
     },
     "execution_count": 13,
     "metadata": {},
     "output_type": "execute_result"
    }
   ],
   "source": [
    "\n",
    "student.values()"
   ]
  },
  {
   "cell_type": "code",
   "execution_count": 14,
   "id": "9bb70b89",
   "metadata": {},
   "outputs": [
    {
     "data": {
      "text/plain": [
       "dict_items([('Name', 'Alice'), ('Age', 20), ('City', 'New York'), ('Email', 'alice@example.com')])"
      ]
     },
     "execution_count": 14,
     "metadata": {},
     "output_type": "execute_result"
    }
   ],
   "source": [
    "student.items()"
   ]
  },
  {
   "cell_type": "code",
   "execution_count": null,
   "id": "43dfb512",
   "metadata": {},
   "outputs": [],
   "source": []
  }
 ],
 "metadata": {
  "kernelspec": {
   "display_name": "Python 3 (ipykernel)",
   "language": "python",
   "name": "python3"
  },
  "language_info": {
   "codemirror_mode": {
    "name": "ipython",
    "version": 3
   },
   "file_extension": ".py",
   "mimetype": "text/x-python",
   "name": "python",
   "nbconvert_exporter": "python",
   "pygments_lexer": "ipython3",
   "version": "3.9.7"
  }
 },
 "nbformat": 4,
 "nbformat_minor": 5
}
